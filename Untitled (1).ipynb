{
 "cells": [
  {
   "cell_type": "code",
   "execution_count": null,
   "id": "48f641fa-8352-45ba-b758-15865109c605",
   "metadata": {
    "jupyter": {
     "source_hidden": true
    }
   },
   "outputs": [
    {
     "name": "stdout",
     "output_type": "stream",
     "text": [
      "Select operation:\n",
      "1.Add\n",
      "2.Subtract\n",
      "3.Multiply\n",
      "4.Divide\n"
     ]
    },
    {
     "name": "stdin",
     "output_type": "stream",
     "text": [
      "Enter choice(1/2/3/4):  Add\n"
     ]
    },
    {
     "name": "stdout",
     "output_type": "stream",
     "text": [
      "Invalid Input\n"
     ]
    }
   ],
   "source": [
    "# Calculator Program\n",
    "\n",
    "def add(x, y):\n",
    "   return x + y\n",
    "\n",
    "def subtract(x, y):\n",
    "   return x - y\n",
    "\n",
    "def multiply(x, y):\n",
    "   return x * y\n",
    "\n",
    "def divide(x, y):\n",
    "   if y == 0:\n",
    "      return \"Error! Division by zero is not allowed.\"\n",
    "   else:\n",
    "      return x / y\n",
    "\n",
    "print(\"Select operation:\")\n",
    "print(\"1.Add\")\n",
    "print(\"2.Subtract\")\n",
    "print(\"3.Multiply\")\n",
    "print(\"4.Divide\")\n",
    "\n",
    "while True:\n",
    "   choice = input(\"Enter choice(1/2/3/4): \")\n",
    "\n",
    "   if choice in ('1', '2', '3', '4'):\n",
    "      num1 = float(input(\"Enter first number: \"))\n",
    "      num2 = float(input(\"Enter second number: \"))\n",
    "\n",
    "      if choice == '1':\n",
    "         print(num1, \"+\", num2, \"=\", add(num1, num2))\n",
    "\n",
    "      elif choice == '2':\n",
    "         print(num1, \"-\", num2, \"=\", subtract(num1, num2))\n",
    "\n",
    "      elif choice == '3':\n",
    "         print(num1, \"*\", num2, \"=\", multiply(num1, num2))\n",
    "\n",
    "      elif choice == '4':\n",
    "         print(num1, \"/\", num2, \"=\", divide(num1, num2))\n",
    "      break\n",
    "   else:\n",
    "      print(\"Invalid Input\")"
   ]
  },
  {
   "cell_type": "code",
   "execution_count": null,
   "id": "f4216794-38e5-43df-858f-28a34c9a4001",
   "metadata": {},
   "outputs": [
    {
     "name": "stdout",
     "output_type": "stream",
     "text": [
      "Select operation:\n",
      "1.Add\n",
      "2.Subtract\n",
      "3.Multiply\n",
      "4.Divide\n"
     ]
    },
    {
     "name": "stdin",
     "output_type": "stream",
     "text": [
      "Enter choice(1/2/3/4):  Add\n"
     ]
    },
    {
     "name": "stdout",
     "output_type": "stream",
     "text": [
      "Invalid Input\n"
     ]
    }
   ],
   "source": [
    "# Calculator Program\n",
    "\n",
    "def add(x, y):\n",
    "   return x + y\n",
    "\n",
    "def subtract(x, y):\n",
    "   return x - y\n",
    "\n",
    "def multiply(x, y):\n",
    "   return x * y\n",
    "\n",
    "def divide(x, y):\n",
    "   if y == 0:\n",
    "      return \"Error! Division by zero is not allowed.\"\n",
    "   else:\n",
    "      return x / y\n",
    "\n",
    "print(\"Select operation:\")\n",
    "print(\"1.Add\")\n",
    "print(\"2.Subtract\")\n",
    "print(\"3.Multiply\")\n",
    "print(\"4.Divide\")\n",
    "\n",
    "while True:\n",
    "   choice = input(\"Enter choice(1/2/3/4): \")\n",
    "\n",
    "   if choice in ('1', '2', '3', '4'):\n",
    "      num1 = float(input(\"Enter first number: \"))\n",
    "      num2 = float(input(\"Enter second number: \"))\n",
    "\n",
    "      if choice == '1':\n",
    "         print(num1, \"+\", num2, \"=\", add(num1, num2))\n",
    "\n",
    "      elif choice == '2':\n",
    "         print(num1, \"-\", num2, \"=\", subtract(num1, num2))\n",
    "\n",
    "      elif choice == '3':\n",
    "         print(num1, \"*\", num2, \"=\", multiply(num1, num2))\n",
    "\n",
    "      elif choice == '4':\n",
    "         print(num1, \"/\", num2, \"=\", divide(num1, num2))\n",
    "      break\n",
    "   else:\n",
    "      print(\"Invalid Input\")"
   ]
  },
  {
   "cell_type": "code",
   "execution_count": null,
   "id": "d04cfa2c-d748-4a6b-a530-ffdd6e16c745",
   "metadata": {},
   "outputs": [],
   "source": []
  }
 ],
 "metadata": {
  "kernelspec": {
   "display_name": "Python 3 (ipykernel)",
   "language": "python",
   "name": "python3"
  },
  "language_info": {
   "codemirror_mode": {
    "name": "ipython",
    "version": 3
   },
   "file_extension": ".py",
   "mimetype": "text/x-python",
   "name": "python",
   "nbconvert_exporter": "python",
   "pygments_lexer": "ipython3",
   "version": "3.11.7"
  }
 },
 "nbformat": 4,
 "nbformat_minor": 5
}
